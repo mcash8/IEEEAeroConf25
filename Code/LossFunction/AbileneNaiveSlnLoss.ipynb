{
 "cells": [
  {
   "cell_type": "code",
   "execution_count": 1,
   "metadata": {},
   "outputs": [],
   "source": [
    "import math \n",
    "import sys\n",
    "import numpy as np \n",
    "import pandas as pd \n",
    "import matplotlib.pyplot as plt \n",
    "from sklearn.preprocessing import MinMaxScaler\n",
    "from utils import *\n",
    "import torch\n",
    "import torch.nn as nn\n",
    "import torch.optim as optim\n",
    "from torch.utils.data import DataLoader"
   ]
  },
  {
   "cell_type": "code",
   "execution_count": 2,
   "metadata": {},
   "outputs": [],
   "source": [
    "''' \n",
    "    Read one week of data \n",
    "'''\n",
    "week = 1\n",
    "\n",
    "# Format the week with leading zeros\n",
    "number = f\"{week:02d}\"\n",
    "\n",
    "# Path of file\n",
    "base_path = f\"data/X{number}/X{number}\"\n",
    "\n",
    "# Load file\n",
    "data = np.loadtxt(base_path)\n",
    "\n",
    "# Keep first 144 entries from each line \n",
    "data = data[:, :144]"
   ]
  },
  {
   "cell_type": "code",
   "execution_count": 3,
   "metadata": {},
   "outputs": [],
   "source": [
    "# Normalize the data\n",
    "scaler = MinMaxScaler()\n",
    "data_norm = normalize_matrix(scaler, data)\n",
    "\n",
    "# Train-Test Split \n",
    "train_data, test_data = train_test_split(data_norm, 0.8)\n",
    "\n",
    "# Window the dataset\n",
    "trainX, trainY = create_dataset(train_data, 10)\n",
    "testX, testY = create_dataset(test_data, 10)"
   ]
  },
  {
   "cell_type": "code",
   "execution_count": 4,
   "metadata": {},
   "outputs": [],
   "source": [
    "# Specify model parameters \n",
    "input_size = trainX.shape[2] # Number of features in input\n",
    "hidden_size = 200  # Number of features in hidden state\n",
    "output_size = 144  # Number of output classes \n",
    "learn_rate = 0.001 \n",
    "epochs = 100\n",
    "num_layers = 1\n",
    "batch_size = 32\n",
    "shuffle = False #don't want to lose the time dependency\n",
    "num_workers = 4  # Number of subprocesses to use for data loading"
   ]
  },
  {
   "cell_type": "code",
   "execution_count": 5,
   "metadata": {},
   "outputs": [],
   "source": [
    "# create torch datasets and torch dataloader\n",
    "\n",
    "train_dataset = torch.utils.data.TensorDataset(torch.FloatTensor(trainX),\n",
    "                                                 torch.Tensor(trainY))\n",
    "\n",
    "\n",
    "train_loader = torch.utils.data.DataLoader(train_dataset, batch_size=batch_size,\n",
    "                                             num_workers=num_workers,\n",
    "                                             shuffle=shuffle)\n",
    "\n",
    "test_dataset  = torch.utils.data.TensorDataset(torch.FloatTensor(testX),\n",
    "                                                 torch.Tensor(testY))\n",
    "\n",
    "\n",
    "test_loader = torch.utils.data.DataLoader(test_dataset, batch_size=1,\n",
    "                                             num_workers=num_workers,\n",
    "                                             shuffle=shuffle)\n"
   ]
  },
  {
   "cell_type": "code",
   "execution_count": 28,
   "metadata": {},
   "outputs": [],
   "source": [
    "class RNN(nn.Module):\n",
    "    def __init__(self, input_size, hidden_size, num_layers):\n",
    "        super(RNN, self).__init__()\n",
    "\n",
    "        self.rnn = nn.GRU(\n",
    "            input_size=input_size,\n",
    "            hidden_size=hidden_size,\n",
    "            num_layers=num_layers,\n",
    "            batch_first=True,\n",
    "        )\n",
    "        self.sigmoid = nn.Sigmoid()\n",
    "        self.out = nn.Linear(hidden_size, input_size)\n",
    "\n",
    "    def forward(self, x):\n",
    "        # x shape (batch, time_step, input_size)\n",
    "        # r_out shape (batch, time_step, output_size)\n",
    "        # h_n shape (n_layers, batch, hidden_size)\n",
    "        # h_c shape (n_layers, batch, hidden_size)\n",
    "        r_out, _ = self.rnn(x, None)  # None represents zero initial hidden state\n",
    "        out = self.out(r_out[:, -1, :])  # return the last value\n",
    "        out = self.sigmoid(out)\n",
    "        return out\n",
    "    \n",
    "import time\n",
    "\n",
    "# Define training function\n",
    "def train(model, train_loader, epochs, criterion, optimizer):\n",
    "    ''' Train ML Model''' \n",
    "\n",
    "    print_interval = 5\n",
    "    track_losses = np.zeros(epochs)\n",
    "    start = time.time()\n",
    "\n",
    "    for epoch in range(epochs): \n",
    "        for inputs, targets in train_loader: \n",
    "            \n",
    "            # Pass data to LSTM\n",
    "            optimizer.zero_grad()\n",
    "            outputs = model(inputs) #size ->: batch_size x output_size\n",
    "            \n",
    "            # Compute the loss\n",
    "            loss = criterion(outputs, targets) #size ->: float\n",
    "            \n",
    "            \n",
    "            # Compute the gradient and update the network parameters\n",
    "            optimizer.zero_grad()\n",
    "            loss.backward()\n",
    "            optimizer.step()\n",
    "\n",
    "        training_loss = loss.item()\n",
    "        track_losses[epoch] = training_loss \n",
    "\n",
    "        if (epoch) % (print_interval-1) == 0:\n",
    "            print('epoch: %4d training loss:%10.3e time:%7.1f'%(epoch, training_loss, time.time()-start))\n",
    "\n",
    "    return loss   "
   ]
  },
  {
   "cell_type": "markdown",
   "metadata": {},
   "source": [
    "The naive solution uses the output of the MLU and the ground truth MLU, computes the MLU, and performs back propogation"
   ]
  },
  {
   "cell_type": "code",
   "execution_count": 29,
   "metadata": {},
   "outputs": [],
   "source": [
    "class NaiveLoss(nn.Module): \n",
    "\n",
    "    def __init__(self):\n",
    "        super(NaiveLoss, self).__init__()\n",
    "\n",
    "    def forward(self, inputs, targets):\n",
    "        G = abilene_topo_lossfn()\n",
    "\n",
    "        u_gt = torch.empty((1, targets.shape[0]))\n",
    "        u_pred = torch.empty((1, targets.shape[0]))\n",
    "        \n",
    "        for i in range(inputs.shape[0]):\n",
    "            input = inputs[i, :].reshape((12, 12))\n",
    "            target = targets[i, :].reshape((12, 12))\n",
    "\n",
    "            target.fill_diagonal_(0)\n",
    "            input.fill_diagonal_(0)\n",
    "            \n",
    "            u = MinMaxLinkUtil(G, target)\n",
    "            u_prime = MinMaxLinkUtil(G, input)\n",
    "\n",
    "            u_gt[0, i] = u\n",
    "            u_pred[0, i] = u_prime\n",
    "            \n",
    "        u_gt.requires_grad_()\n",
    "        u_pred.requires_grad_()\n",
    "\n",
    "        comp_loss= nn.MSELoss()\n",
    "        return comp_loss(u_gt, u_pred)"
   ]
  },
  {
   "cell_type": "code",
   "execution_count": 30,
   "metadata": {},
   "outputs": [
    {
     "name": "stdout",
     "output_type": "stream",
     "text": [
      "epoch:    0 training loss: 3.670e-01 time:  451.5\n"
     ]
    },
    {
     "ename": "KeyboardInterrupt",
     "evalue": "",
     "output_type": "error",
     "traceback": [
      "\u001b[1;31m---------------------------------------------------------------------------\u001b[0m",
      "\u001b[1;31mKeyboardInterrupt\u001b[0m                         Traceback (most recent call last)",
      "Cell \u001b[1;32mIn[30], line 10\u001b[0m\n\u001b[0;32m      7\u001b[0m \u001b[38;5;66;03m# Create loss function\u001b[39;00m\n\u001b[0;32m      8\u001b[0m criterion \u001b[38;5;241m=\u001b[39m NaiveLoss()\n\u001b[1;32m---> 10\u001b[0m loss \u001b[38;5;241m=\u001b[39m \u001b[43mtrain\u001b[49m\u001b[43m(\u001b[49m\u001b[43mmodel\u001b[49m\u001b[43m,\u001b[49m\u001b[43m \u001b[49m\u001b[43mtrain_loader\u001b[49m\u001b[43m,\u001b[49m\u001b[43m \u001b[49m\u001b[43mepochs\u001b[49m\u001b[43m,\u001b[49m\u001b[43m \u001b[49m\u001b[43mcriterion\u001b[49m\u001b[43m,\u001b[49m\u001b[43m \u001b[49m\u001b[43moptimizer\u001b[49m\u001b[43m)\u001b[49m\n",
      "Cell \u001b[1;32mIn[28], line 42\u001b[0m, in \u001b[0;36mtrain\u001b[1;34m(model, train_loader, epochs, criterion, optimizer)\u001b[0m\n\u001b[0;32m     39\u001b[0m outputs \u001b[38;5;241m=\u001b[39m model(inputs) \u001b[38;5;66;03m#size ->: batch_size x output_size\u001b[39;00m\n\u001b[0;32m     41\u001b[0m \u001b[38;5;66;03m# Compute the loss\u001b[39;00m\n\u001b[1;32m---> 42\u001b[0m loss \u001b[38;5;241m=\u001b[39m \u001b[43mcriterion\u001b[49m\u001b[43m(\u001b[49m\u001b[43moutputs\u001b[49m\u001b[43m,\u001b[49m\u001b[43m \u001b[49m\u001b[43mtargets\u001b[49m\u001b[43m)\u001b[49m \u001b[38;5;66;03m#size ->: float\u001b[39;00m\n\u001b[0;32m     45\u001b[0m \u001b[38;5;66;03m# Compute the gradient and update the network parameters\u001b[39;00m\n\u001b[0;32m     46\u001b[0m optimizer\u001b[38;5;241m.\u001b[39mzero_grad()\n",
      "File \u001b[1;32mc:\\Users\\marth\\AppData\\Local\\Programs\\Python\\Python312\\Lib\\site-packages\\torch\\nn\\modules\\module.py:1553\u001b[0m, in \u001b[0;36mModule._wrapped_call_impl\u001b[1;34m(self, *args, **kwargs)\u001b[0m\n\u001b[0;32m   1551\u001b[0m     \u001b[38;5;28;01mreturn\u001b[39;00m \u001b[38;5;28mself\u001b[39m\u001b[38;5;241m.\u001b[39m_compiled_call_impl(\u001b[38;5;241m*\u001b[39margs, \u001b[38;5;241m*\u001b[39m\u001b[38;5;241m*\u001b[39mkwargs)  \u001b[38;5;66;03m# type: ignore[misc]\u001b[39;00m\n\u001b[0;32m   1552\u001b[0m \u001b[38;5;28;01melse\u001b[39;00m:\n\u001b[1;32m-> 1553\u001b[0m     \u001b[38;5;28;01mreturn\u001b[39;00m \u001b[38;5;28;43mself\u001b[39;49m\u001b[38;5;241;43m.\u001b[39;49m\u001b[43m_call_impl\u001b[49m\u001b[43m(\u001b[49m\u001b[38;5;241;43m*\u001b[39;49m\u001b[43margs\u001b[49m\u001b[43m,\u001b[49m\u001b[43m \u001b[49m\u001b[38;5;241;43m*\u001b[39;49m\u001b[38;5;241;43m*\u001b[39;49m\u001b[43mkwargs\u001b[49m\u001b[43m)\u001b[49m\n",
      "File \u001b[1;32mc:\\Users\\marth\\AppData\\Local\\Programs\\Python\\Python312\\Lib\\site-packages\\torch\\nn\\modules\\module.py:1562\u001b[0m, in \u001b[0;36mModule._call_impl\u001b[1;34m(self, *args, **kwargs)\u001b[0m\n\u001b[0;32m   1557\u001b[0m \u001b[38;5;66;03m# If we don't have any hooks, we want to skip the rest of the logic in\u001b[39;00m\n\u001b[0;32m   1558\u001b[0m \u001b[38;5;66;03m# this function, and just call forward.\u001b[39;00m\n\u001b[0;32m   1559\u001b[0m \u001b[38;5;28;01mif\u001b[39;00m \u001b[38;5;129;01mnot\u001b[39;00m (\u001b[38;5;28mself\u001b[39m\u001b[38;5;241m.\u001b[39m_backward_hooks \u001b[38;5;129;01mor\u001b[39;00m \u001b[38;5;28mself\u001b[39m\u001b[38;5;241m.\u001b[39m_backward_pre_hooks \u001b[38;5;129;01mor\u001b[39;00m \u001b[38;5;28mself\u001b[39m\u001b[38;5;241m.\u001b[39m_forward_hooks \u001b[38;5;129;01mor\u001b[39;00m \u001b[38;5;28mself\u001b[39m\u001b[38;5;241m.\u001b[39m_forward_pre_hooks\n\u001b[0;32m   1560\u001b[0m         \u001b[38;5;129;01mor\u001b[39;00m _global_backward_pre_hooks \u001b[38;5;129;01mor\u001b[39;00m _global_backward_hooks\n\u001b[0;32m   1561\u001b[0m         \u001b[38;5;129;01mor\u001b[39;00m _global_forward_hooks \u001b[38;5;129;01mor\u001b[39;00m _global_forward_pre_hooks):\n\u001b[1;32m-> 1562\u001b[0m     \u001b[38;5;28;01mreturn\u001b[39;00m \u001b[43mforward_call\u001b[49m\u001b[43m(\u001b[49m\u001b[38;5;241;43m*\u001b[39;49m\u001b[43margs\u001b[49m\u001b[43m,\u001b[49m\u001b[43m \u001b[49m\u001b[38;5;241;43m*\u001b[39;49m\u001b[38;5;241;43m*\u001b[39;49m\u001b[43mkwargs\u001b[49m\u001b[43m)\u001b[49m\n\u001b[0;32m   1564\u001b[0m \u001b[38;5;28;01mtry\u001b[39;00m:\n\u001b[0;32m   1565\u001b[0m     result \u001b[38;5;241m=\u001b[39m \u001b[38;5;28;01mNone\u001b[39;00m\n",
      "Cell \u001b[1;32mIn[29], line 20\u001b[0m, in \u001b[0;36mNaiveLoss.forward\u001b[1;34m(self, inputs, targets)\u001b[0m\n\u001b[0;32m     17\u001b[0m \u001b[38;5;28minput\u001b[39m\u001b[38;5;241m.\u001b[39mfill_diagonal_(\u001b[38;5;241m0\u001b[39m)\n\u001b[0;32m     19\u001b[0m u \u001b[38;5;241m=\u001b[39m MinMaxLinkUtil(G, target)\n\u001b[1;32m---> 20\u001b[0m u_prime \u001b[38;5;241m=\u001b[39m \u001b[43mMinMaxLinkUtil\u001b[49m\u001b[43m(\u001b[49m\u001b[43mG\u001b[49m\u001b[43m,\u001b[49m\u001b[43m \u001b[49m\u001b[38;5;28;43minput\u001b[39;49m\u001b[43m)\u001b[49m\n\u001b[0;32m     22\u001b[0m u_gt[\u001b[38;5;241m0\u001b[39m, i] \u001b[38;5;241m=\u001b[39m u\n\u001b[0;32m     23\u001b[0m u_pred[\u001b[38;5;241m0\u001b[39m, i] \u001b[38;5;241m=\u001b[39m u_prime\n",
      "File \u001b[1;32mc:\\Users\\marth\\OneDrive\\Desktop\\Routing & Loss Function\\utils.py:251\u001b[0m, in \u001b[0;36mMinMaxLinkUtil\u001b[1;34m(G, D, verbose)\u001b[0m\n\u001b[0;32m    248\u001b[0m f, l \u001b[38;5;241m=\u001b[39m getLoadandFlowVars(m, V, arcs, cost)\n\u001b[0;32m    250\u001b[0m \u001b[38;5;66;03m# Add link utilization constraints\u001b[39;00m\n\u001b[1;32m--> 251\u001b[0m \u001b[43mgetLinkUtilization\u001b[49m\u001b[43m(\u001b[49m\u001b[43mm\u001b[49m\u001b[43m,\u001b[49m\u001b[43m \u001b[49m\u001b[43ml\u001b[49m\u001b[43m,\u001b[49m\u001b[43m \u001b[49m\u001b[43mf\u001b[49m\u001b[43m,\u001b[49m\u001b[43m \u001b[49m\u001b[43marcs\u001b[49m\u001b[43m)\u001b[49m\n\u001b[0;32m    253\u001b[0m \u001b[38;5;66;03m# Add capacity constraints\u001b[39;00m\n\u001b[0;32m    254\u001b[0m getCapacityConstraint(m, l, capacity, arcs)\n",
      "File \u001b[1;32mc:\\Users\\marth\\OneDrive\\Desktop\\Routing & Loss Function\\utils.py:200\u001b[0m, in \u001b[0;36mgetLinkUtilization\u001b[1;34m(m, l, f, arcs)\u001b[0m\n\u001b[0;32m    197\u001b[0m \u001b[38;5;250m\u001b[39m\u001b[38;5;124;03m'''Link util = sum over flows for each od pair '''\u001b[39;00m\n\u001b[0;32m    199\u001b[0m \u001b[38;5;66;03m# Link utilization = sum of flow \u001b[39;00m\n\u001b[1;32m--> 200\u001b[0m \u001b[43mm\u001b[49m\u001b[38;5;241;43m.\u001b[39;49m\u001b[43maddConstrs\u001b[49m\u001b[43m(\u001b[49m\u001b[43m(\u001b[49m\u001b[43ml\u001b[49m\u001b[43m[\u001b[49m\u001b[43mi\u001b[49m\u001b[43m,\u001b[49m\u001b[43m \u001b[49m\u001b[43mj\u001b[49m\u001b[43m]\u001b[49m\u001b[43m \u001b[49m\u001b[38;5;241;43m==\u001b[39;49m\u001b[43m \u001b[49m\u001b[43mf\u001b[49m\u001b[38;5;241;43m.\u001b[39;49m\u001b[43msum\u001b[49m\u001b[43m(\u001b[49m\u001b[38;5;124;43m'\u001b[39;49m\u001b[38;5;124;43m*\u001b[39;49m\u001b[38;5;124;43m'\u001b[39;49m\u001b[43m,\u001b[49m\u001b[43m \u001b[49m\u001b[38;5;124;43m'\u001b[39;49m\u001b[38;5;124;43m*\u001b[39;49m\u001b[38;5;124;43m'\u001b[39;49m\u001b[43m,\u001b[49m\u001b[43m \u001b[49m\u001b[43mi\u001b[49m\u001b[43m,\u001b[49m\u001b[43m \u001b[49m\u001b[43mj\u001b[49m\u001b[43m)\u001b[49m\u001b[43m \u001b[49m\u001b[38;5;28;43;01mfor\u001b[39;49;00m\u001b[43m \u001b[49m\u001b[43mi\u001b[49m\u001b[43m,\u001b[49m\u001b[43m \u001b[49m\u001b[43mj\u001b[49m\u001b[43m \u001b[49m\u001b[38;5;129;43;01min\u001b[39;49;00m\u001b[43m \u001b[49m\u001b[43marcs\u001b[49m\u001b[43m)\u001b[49m\u001b[43m,\u001b[49m\u001b[43m \u001b[49m\u001b[38;5;124;43m'\u001b[39;49m\u001b[38;5;124;43ml_sum_traf\u001b[39;49m\u001b[38;5;124;43m'\u001b[39;49m\u001b[43m,\u001b[49m\u001b[43m)\u001b[49m\n\u001b[0;32m    202\u001b[0m \u001b[38;5;28;01mreturn\u001b[39;00m\n",
      "File \u001b[1;32msrc\\\\gurobipy\\\\model.pxi:3884\u001b[0m, in \u001b[0;36mgurobipy.Model.addConstrs\u001b[1;34m()\u001b[0m\n",
      "File \u001b[1;32msrc\\\\gurobipy\\\\model.pxi:220\u001b[0m, in \u001b[0;36mgurobipy.Model.__indexname\u001b[1;34m()\u001b[0m\n",
      "\u001b[1;31mKeyboardInterrupt\u001b[0m: "
     ]
    }
   ],
   "source": [
    "# Create Model \n",
    "model = RNN(input_size, hidden_size, num_layers)\n",
    "\n",
    "# Create optimizer \n",
    "optimizer = optim.Adam(model.parameters(), lr=learn_rate)\n",
    "\n",
    "# Create loss function\n",
    "criterion = NaiveLoss()\n",
    "\n",
    "loss = train(model, train_loader, epochs, criterion, optimizer)"
   ]
  }
 ],
 "metadata": {
  "kernelspec": {
   "display_name": "Python 3",
   "language": "python",
   "name": "python3"
  },
  "language_info": {
   "codemirror_mode": {
    "name": "ipython",
    "version": 3
   },
   "file_extension": ".py",
   "mimetype": "text/x-python",
   "name": "python",
   "nbconvert_exporter": "python",
   "pygments_lexer": "ipython3",
   "version": "3.12.5"
  }
 },
 "nbformat": 4,
 "nbformat_minor": 2
}
