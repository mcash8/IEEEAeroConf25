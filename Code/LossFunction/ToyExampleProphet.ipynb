{
 "cells": [
  {
   "cell_type": "code",
   "execution_count": 1,
   "metadata": {},
   "outputs": [],
   "source": [
    "import numpy as np\n",
    "import networkx as nx\n",
    "from utils import *\n",
    "import itertools as it\n",
    "from matplotlib import pyplot as plt"
   ]
  },
  {
   "cell_type": "code",
   "execution_count": 2,
   "metadata": {},
   "outputs": [],
   "source": [
    "# Dummy traffic matrix of all ones \n",
    "TM = np.ones((4,4))\n",
    "\n",
    "# set the diagnoal to zero\n",
    "np.fill_diagonal(TM, 0)\n",
    "\n",
    "# Dummy traffic matrix of all ones scaled by 10 \n",
    "TM_scaled = TM*10"
   ]
  },
  {
   "cell_type": "code",
   "execution_count": 3,
   "metadata": {},
   "outputs": [
    {
     "data": {
      "text/plain": [
       "0.0"
      ]
     },
     "execution_count": 3,
     "metadata": {},
     "output_type": "execute_result"
    }
   ],
   "source": [
    "# calculate the 1-cosine loss as in prophet\n",
    "\n",
    "def cosine_similarity(A, B):    \n",
    "\n",
    "    # Flatten the matrices\n",
    "    vec1 = A.flatten()\n",
    "    vec2 = B.flatten()\n",
    "    \n",
    "    # Compute dot product\n",
    "    dot_product = np.dot(vec1, vec2)\n",
    "    \n",
    "    # Compute norms\n",
    "    norm1 = np.linalg.norm(vec1)\n",
    "    norm2 = np.linalg.norm(vec2)\n",
    "    \n",
    "    # Compute cosine similarity\n",
    "    similarity = dot_product / (norm1 * norm2)\n",
    "    \n",
    "    return float(1-similarity)\n",
    "\n",
    "cosine_similarity(TM, TM_scaled)"
   ]
  },
  {
   "cell_type": "code",
   "execution_count": 4,
   "metadata": {},
   "outputs": [
    {
     "name": "stdout",
     "output_type": "stream",
     "text": [
      "Edge from 0 to 1 with capacity 100\n",
      "Edge from 0 to 2 with capacity 100\n",
      "Edge from 0 to 3 with capacity 100\n",
      "Edge from 1 to 0 with capacity 100\n",
      "Edge from 1 to 2 with capacity 100\n",
      "Edge from 1 to 3 with capacity 100\n",
      "Edge from 2 to 0 with capacity 100\n",
      "Edge from 2 to 1 with capacity 100\n",
      "Edge from 2 to 3 with capacity 100\n",
      "Edge from 3 to 0 with capacity 100\n",
      "Edge from 3 to 1 with capacity 100\n",
      "Edge from 3 to 2 with capacity 100\n"
     ]
    }
   ],
   "source": [
    "G = fully_connected_network(num_nodes=4, capacity=100)\n",
    "\n",
    "# Print edges with capacities\n",
    "for u, v, data in G.edges(data=True):\n",
    "    print(f\"Edge from {u} to {v} with capacity {data['capacity']}\")"
   ]
  },
  {
   "cell_type": "code",
   "execution_count": 5,
   "metadata": {},
   "outputs": [
    {
     "name": "stdout",
     "output_type": "stream",
     "text": [
      "Set parameter Username\n",
      "Academic license - for non-commercial use only - expires 2025-09-10\n",
      "-----MLU for a fully connected network-----\n",
      "\n",
      "MLU for TM: 0.010000\n",
      "MLU for TM: 0.100000\n"
     ]
    }
   ],
   "source": [
    "mlu = MinMaxLinkUtil(G, TM, verbose=False)\n",
    "mlu_scaled = MinMaxLinkUtil(G, TM_scaled, verbose=False)\n",
    "\n",
    "print('-----MLU for a fully connected network-----\\n')\n",
    "print('MLU for TM: %f' % mlu)\n",
    "print('MLU for TM: %f' % mlu_scaled)"
   ]
  },
  {
   "cell_type": "code",
   "execution_count": 6,
   "metadata": {},
   "outputs": [
    {
     "name": "stdout",
     "output_type": "stream",
     "text": [
      "Edge from 0 to 1 with capacity 100\n",
      "Edge from 0 to 2 with capacity 100\n",
      "Edge from 0 to 3 with capacity 100\n",
      "Edge from 1 to 0 with capacity 100\n",
      "Edge from 2 to 0 with capacity 100\n",
      "Edge from 3 to 0 with capacity 100\n"
     ]
    }
   ],
   "source": [
    "G = star_network(num_nodes=4, capacity=100)\n",
    "\n",
    "# Print edges with capacities\n",
    "for u, v, data in G.edges(data=True):\n",
    "    print(f\"Edge from {u} to {v} with capacity {data['capacity']}\")"
   ]
  },
  {
   "cell_type": "code",
   "execution_count": 7,
   "metadata": {},
   "outputs": [
    {
     "name": "stdout",
     "output_type": "stream",
     "text": [
      "-----MLU for star network-----\n",
      "\n",
      "MLU for TM: 0.030000\n",
      "MLU for TM: 0.300000\n"
     ]
    }
   ],
   "source": [
    "mlu = MinMaxLinkUtil(G, TM, verbose=False)\n",
    "mlu_scaled = MinMaxLinkUtil(G, TM_scaled, verbose=False)\n",
    "\n",
    "print('-----MLU for star network-----\\n')\n",
    "print('MLU for TM: %f' % mlu)\n",
    "print('MLU for TM: %f' % mlu_scaled)"
   ]
  },
  {
   "cell_type": "code",
   "execution_count": 8,
   "metadata": {},
   "outputs": [
    {
     "name": "stdout",
     "output_type": "stream",
     "text": [
      "Edge from 0 to 1 with capacity 100\n",
      "Edge from 1 to 0 with capacity 100\n",
      "Edge from 1 to 2 with capacity 100\n",
      "Edge from 2 to 1 with capacity 100\n",
      "Edge from 2 to 3 with capacity 100\n",
      "Edge from 3 to 2 with capacity 100\n"
     ]
    }
   ],
   "source": [
    "G = line_network(num_nodes=4, capacity=100)\n",
    "\n",
    "# Print edges with capacities\n",
    "for u, v, data in G.edges(data=True):\n",
    "    print(f\"Edge from {u} to {v} with capacity {data['capacity']}\")"
   ]
  },
  {
   "cell_type": "code",
   "execution_count": 9,
   "metadata": {},
   "outputs": [
    {
     "name": "stdout",
     "output_type": "stream",
     "text": [
      "-----MLU for line network-----\n",
      "\n",
      "MLU for TM: 0.040000\n",
      "MLU for TM: 0.400000\n"
     ]
    },
    {
     "ename": "",
     "evalue": "",
     "output_type": "error",
     "traceback": [
      "\u001b[1;31mThe Kernel crashed while executing code in the current cell or a previous cell. \n",
      "\u001b[1;31mPlease review the code in the cell(s) to identify a possible cause of the failure. \n",
      "\u001b[1;31mClick <a href='https://aka.ms/vscodeJupyterKernelCrash'>here</a> for more info. \n",
      "\u001b[1;31mView Jupyter <a href='command:jupyter.viewOutput'>log</a> for further details."
     ]
    }
   ],
   "source": [
    "mlu = MinMaxLinkUtil(G, TM, verbose=False)\n",
    "mlu_scaled = MinMaxLinkUtil(G, TM_scaled, verbose=False)\n",
    "\n",
    "print('-----MLU for line network-----\\n')\n",
    "print('MLU for TM: %f' % mlu)\n",
    "print('MLU for TM: %f' % mlu_scaled)"
   ]
  }
 ],
 "metadata": {
  "kernelspec": {
   "display_name": "Python 3",
   "language": "python",
   "name": "python3"
  },
  "language_info": {
   "codemirror_mode": {
    "name": "ipython",
    "version": 3
   },
   "file_extension": ".py",
   "mimetype": "text/x-python",
   "name": "python",
   "nbconvert_exporter": "python",
   "pygments_lexer": "ipython3",
   "version": "3.12.5"
  }
 },
 "nbformat": 4,
 "nbformat_minor": 2
}
