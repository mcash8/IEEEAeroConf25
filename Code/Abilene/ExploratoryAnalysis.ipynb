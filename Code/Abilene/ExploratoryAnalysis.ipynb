{
 "cells": [
  {
   "cell_type": "code",
   "execution_count": 1,
   "metadata": {},
   "outputs": [],
   "source": [
    "import numpy as np \n",
    "import pandas as pd \n",
    "import matplotlib.pyplot as plt \n",
    "import math \n",
    "import itertools as it"
   ]
  },
  {
   "cell_type": "code",
   "execution_count": 8,
   "metadata": {},
   "outputs": [],
   "source": [
    "'''\n",
    "    Import all data\n",
    "'''\n",
    "\n",
    "data = np.zeros((48384, 144))\n",
    "\n",
    "for i in range(1,25):\n",
    "\n",
    "    # Format the number with leading zeros\n",
    "    number = f\"{i:02d}\"\n",
    "    \n",
    "    # Path of file\n",
    "    base_path = f\"data/X{number}/X{number}\"\n",
    "\n",
    "    # Load file\n",
    "    temp = np.loadtxt(base_path)\n",
    "\n",
    "    # Keep first 144 entries from each line \n",
    "    temp = temp[:, :144]\n",
    "\n",
    "    # Append data    \n",
    "    data[(i-1)*2016:2016*i, :] = temp"
   ]
  },
  {
   "cell_type": "markdown",
   "metadata": {},
   "source": [
    "### Stationarity, Seasonality, etc. "
   ]
  },
  {
   "cell_type": "code",
   "execution_count": null,
   "metadata": {},
   "outputs": [],
   "source": []
  },
  {
   "cell_type": "markdown",
   "metadata": {},
   "source": [
    "### Correlation Profile"
   ]
  },
  {
   "cell_type": "code",
   "execution_count": 11,
   "metadata": {},
   "outputs": [],
   "source": [
    "'''\n",
    "    Matrix normlaize data\n",
    "'''\n",
    "\n",
    "from sklearn.preprocessing import MinMaxScaler\n",
    "\n",
    "scaler = MinMaxScaler(feature_range=(0, 1)) \n",
    "\n",
    "def normalize_matrix(scaler, dataset):\n",
    "\n",
    "    dataset_norm = np.zeros(dataset.shape)\n",
    "\n",
    "    for i in range(len(dataset)):\n",
    "        row = np.reshape(dataset[i, :], (144,1))\n",
    "        row = scaler.fit_transform(row)\n",
    "\n",
    "        dataset_norm[i, :] = np.reshape(row, (144,))\n",
    "\n",
    "    return dataset_norm\n",
    "\n",
    "dataset_norm = normalize_matrix(scaler, data)\n"
   ]
  },
  {
   "cell_type": "code",
   "execution_count": 16,
   "metadata": {},
   "outputs": [],
   "source": [
    "'''\n",
    "    Compute inter-flow correlations...fix this\n",
    "'''\n",
    "\n",
    "od_pairs_1 = it.product(range(0,12), repeat = 2)\n",
    "od_pairs_2 = it.product(range(0,12), repeat = 2)\n",
    "\n",
    "inter_flow = []\n",
    "\n",
    "for (s,d) in od_pairs_1: \n",
    "    for(s_1, d_1) in od_pairs_2:\n",
    "\n",
    "        # Check that pairs aren't the same\n",
    "        if (s_1 != s) & (d_1 != d):\n",
    "\n",
    "            od_num_1  = s*12+d\n",
    "            od_num_2  = s_1*12+d_1\n",
    "\n",
    "            pair_1 = dataset_norm[:, od_num_1]\n",
    "            pair_2 = dataset_norm[:, od_num_2]\n",
    "\n",
    "            # get variance\n",
    "            var_1 = np.var(pair_1)\n",
    "            var_2 = np.var(pair_2)\n",
    "\n",
    "            # get correlation\n",
    "            cov = np.cov(pair_1, pair_2)[0][1]\n",
    "\n",
    "            # compute correlation coefficient\n",
    "            rho = cov/(var_1*var_2)\n",
    "\n",
    "            # save value \n",
    "            inter_flow.append(rho)\n",
    "\n",
    "inter_flow = np.array(inter_flow)"
   ]
  },
  {
   "cell_type": "code",
   "execution_count": 37,
   "metadata": {},
   "outputs": [
    {
     "data": {
      "text/plain": [
       "array([[6.47126749e+10, 6.47126749e+10],\n",
       "       [6.47126749e+10, 6.47126749e+10]])"
      ]
     },
     "execution_count": 37,
     "metadata": {},
     "output_type": "execute_result"
    }
   ],
   "source": [
    "s, d = (1,10)\n",
    "s_1, d_1, = (1,10)\n",
    "\n",
    "od_num_1  = s*12+d\n",
    "od_num_2  = s_1*12+d_1\n",
    "\n",
    "pair_1 = data[:, od_num_1]\n",
    "pair_2 = data[:, od_num_2]\n",
    "\n",
    "# get variance\n",
    "var_1 = np.var(pair_1)\n",
    "var_2 = np.var(pair_2)\n",
    "\n",
    "# get correlation\n",
    "cov = np.cov(pair_1, pair_2)\n",
    "cov\n",
    "\n",
    "\n"
   ]
  },
  {
   "cell_type": "code",
   "execution_count": 36,
   "metadata": {},
   "outputs": [
    {
     "name": "stdout",
     "output_type": "stream",
     "text": [
      "Correlation Coefficient: nan\n",
      "P-value: nan\n"
     ]
    },
    {
     "name": "stderr",
     "output_type": "stream",
     "text": [
      "C:\\Users\\marth\\AppData\\Local\\Temp\\ipykernel_29032\\1140896686.py:4: ConstantInputWarning: An input array is constant; the correlation coefficient is not defined.\n",
      "  corr_coefficient, p_value = pearsonr(pair_1.reshape(-1), pair_2.reshape(-1))\n"
     ]
    }
   ],
   "source": [
    "from scipy.stats import pearsonr\n",
    "\n",
    "# Compute Pearson correlation coefficient and p-value\n",
    "corr_coefficient, p_value = pearsonr(pair_1.reshape(-1), pair_2.reshape(-1))\n",
    "\n",
    "print(\"Correlation Coefficient:\", corr_coefficient)\n",
    "print(\"P-value:\", p_value)"
   ]
  }
 ],
 "metadata": {
  "kernelspec": {
   "display_name": "Python 3",
   "language": "python",
   "name": "python3"
  },
  "language_info": {
   "codemirror_mode": {
    "name": "ipython",
    "version": 3
   },
   "file_extension": ".py",
   "mimetype": "text/x-python",
   "name": "python",
   "nbconvert_exporter": "python",
   "pygments_lexer": "ipython3",
   "version": "3.12.5"
  }
 },
 "nbformat": 4,
 "nbformat_minor": 2
}
