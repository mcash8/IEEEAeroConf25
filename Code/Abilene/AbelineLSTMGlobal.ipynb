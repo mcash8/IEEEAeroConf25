{
 "cells": [
  {
   "cell_type": "code",
   "execution_count": 1,
   "metadata": {},
   "outputs": [],
   "source": [
    "import numpy as np \n",
    "import pandas as pd \n",
    "import matplotlib.pyplot as plt \n",
    "import math "
   ]
  },
  {
   "cell_type": "code",
   "execution_count": 2,
   "metadata": {},
   "outputs": [],
   "source": [
    "''' \n",
    "    Read dataset for all 24 weeks\n",
    "'''\n",
    "\n",
    "data = np.zeros((48384, 144))\n",
    "\n",
    "for i in range(1,25):\n",
    "\n",
    "    # Format the number with leading zeros\n",
    "    number = f\"{i:02d}\"\n",
    "    \n",
    "    # Path of file\n",
    "    base_path = f\"data/X{number}/X{number}\"\n",
    "\n",
    "    # Load file\n",
    "    temp = np.loadtxt(base_path)\n",
    "\n",
    "    # Keep first 144 entries from each line \n",
    "    temp = temp[:, :144]\n",
    "\n",
    "    # Append data    \n",
    "    data[(i-1)*2016:2016*i, :] = temp\n"
   ]
  },
  {
   "cell_type": "code",
   "execution_count": 4,
   "metadata": {},
   "outputs": [],
   "source": [
    "from sklearn.preprocessing import MinMaxScaler\n",
    "\n",
    "'''\n",
    "    Matrix Normalization\n",
    "'''\n",
    "\n",
    "scaler = MinMaxScaler(feature_range=(0, 1)) \n",
    "\n",
    "def normalize_matrix(scaler, dataset):\n",
    "\n",
    "    dataset_norm = np.zeros(dataset.shape)\n",
    "\n",
    "    for i in range(len(dataset)):\n",
    "        row = np.reshape(dataset[i, :], (144,1))\n",
    "        row = scaler.fit_transform(row)\n",
    "\n",
    "        dataset_norm[i, :] = np.reshape(row, (144,))\n",
    "\n",
    "    return dataset_norm\n",
    "\n",
    "dataset_norm = normalize_matrix(scaler, data)"
   ]
  },
  {
   "cell_type": "code",
   "execution_count": 7,
   "metadata": {},
   "outputs": [],
   "source": [
    "''' \n",
    "    Apply train test split\n",
    "'''\n",
    "def train_test_split(dataset, train_ratio):\n",
    "\n",
    "    train_size = int(len(dataset) * train_ratio)\n",
    "\n",
    "    train_data = dataset[0:train_size,:] \n",
    "    test_data = dataset[train_size:len(dataset),:] \n",
    "\n",
    "    return train_data, test_data\n",
    "\n",
    "\n",
    "train_data, test_data = train_test_split(dataset_norm, 0.8)"
   ]
  },
  {
   "cell_type": "code",
   "execution_count": 8,
   "metadata": {},
   "outputs": [],
   "source": [
    "''' \n",
    "    Windowing the dataset\n",
    "'''\n",
    "\n",
    "def create_dataset(dataset, window_size): \n",
    "    dataX, dataY = [], [] \n",
    "    for i in range(len(dataset)-window_size): \n",
    "        a = dataset[i:i+window_size, :] \n",
    "        dataX.append(a) \n",
    "        dataY.append(dataset[i + window_size, :]) \n",
    "    return np.array(dataX), np.array(dataY) \n",
    "\n",
    "trainX, trainY= create_dataset(train_data, 10) \n",
    "testX, testY = create_dataset(test_data, 10) "
   ]
  },
  {
   "cell_type": "code",
   "execution_count": 15,
   "metadata": {},
   "outputs": [
    {
     "name": "stdout",
     "output_type": "stream",
     "text": [
      "cpu\n"
     ]
    }
   ],
   "source": [
    "''' \n",
    "    Defining hyperparameters\n",
    "'''\n",
    "\n",
    "import torch\n",
    "import torch.nn as nn\n",
    "import torch.nn.functional as F\n",
    "import torch.optim as optim\n",
    "from torch.utils.data import DataLoader\n",
    "\n",
    "input_size = trainX.shape[2] # Number of features in input\n",
    "hidden_size = trainX.shape[1]  # Number of features in hidden state\n",
    "output_size = 144  # Number of output classes \n",
    "learn_rate = 0.001 \n",
    "epochs = 100\n",
    "num_layers = 1\n",
    "batch_size = 32\n",
    "shuffle = False #don't want to lose the time dependency\n",
    "num_workers = 4  # Number of subprocesses to use for data loading"
   ]
  },
  {
   "cell_type": "code",
   "execution_count": 11,
   "metadata": {},
   "outputs": [],
   "source": [
    "''' \n",
    "    Define datasets and dataloaders\n",
    "'''\n",
    "\n",
    "train_dataset = torch.utils.data.TensorDataset(torch.FloatTensor(trainX),\n",
    "                                                 torch.Tensor(trainY))\n",
    "\n",
    "\n",
    "train_loader= torch.utils.data.DataLoader(train_dataset, batch_size=1,\n",
    "                                             num_workers=num_workers,\n",
    "                                             shuffle=shuffle)\n",
    "\n",
    "test_dataset = torch.utils.data.TensorDataset(torch.FloatTensor(testX),\n",
    "                                                 torch.Tensor(testY))\n",
    "\n",
    "\n",
    "test_loader= torch.utils.data.DataLoader(test_dataset, batch_size=1,\n",
    "                                             num_workers=num_workers,\n",
    "                                             shuffle=shuffle)"
   ]
  },
  {
   "cell_type": "code",
   "execution_count": 12,
   "metadata": {},
   "outputs": [],
   "source": [
    "''' \n",
    "    Define the LSTM Model\n",
    "'''\n",
    "\n",
    "class LSTMModel(nn.Module):\n",
    "    def __init__(self, input_size, hidden_size, num_layers, output_size):\n",
    "        super(LSTMModel, self).__init__()\n",
    "        self.hidden_size = hidden_size\n",
    "        self.num_layers = num_layers\n",
    "        self.lstm = nn.LSTM(input_size, hidden_size, num_layers, batch_first=True)\n",
    "        self.fc = nn.Linear(hidden_size, output_size)\n",
    "\n",
    "    def forward(self, x):\n",
    "        # Initialize hidden state with zeros\n",
    "        h0 = torch.zeros(self.num_layers, x.size(0), self.hidden_size).to(x.device)\n",
    "        # Initialize cell state with zeros\n",
    "        c0 = torch.zeros(self.num_layers, x.size(0), self.hidden_size).to(x.device)\n",
    "        \n",
    "        # Forward propagate LSTM\n",
    "        out, _ = self.lstm(x, (h0, c0))  # out: tensor of shape (batch_size, seq_length, hidden_size)\n",
    "        \n",
    "        # Decode the hidden state of the last time step\n",
    "        out = self.fc(out[:, -1, :])\n",
    "        return out\n"
   ]
  },
  {
   "cell_type": "code",
   "execution_count": 13,
   "metadata": {},
   "outputs": [],
   "source": [
    "''' \n",
    "    Define training loop\n",
    "'''\n",
    "\n",
    "import time\n",
    "\n",
    "def train(model, train_loader, epochs, criterion, optimizer):\n",
    "    ''' Train ML Model''' \n",
    "\n",
    "    print_interval = 5\n",
    "    track_losses = np.zeros(epochs)\n",
    "    start = time.time()\n",
    "\n",
    "    for epoch in range(epochs): \n",
    "        for inputs, targets in train_loader: \n",
    "            \n",
    "            # Pass data to LSTM\n",
    "            optimizer.zero_grad()\n",
    "            outputs = model(inputs)\n",
    "            \n",
    "            # Compute the loss\n",
    "            loss = criterion(outputs, targets)\n",
    "\n",
    "            # Compute the gradient and update the network parameters\n",
    "            optimizer.zero_grad()\n",
    "            loss.backward()\n",
    "            optimizer.step()\n",
    "        \n",
    "        training_loss = loss.item()\n",
    "        track_losses[epoch] = training_loss \n",
    "\n",
    "        if (epoch) % (print_interval-1) == 0:\n",
    "            print('epoch: %4d training loss:%10.3e time:%7.1f'%(epoch, training_loss, time.time()-start))\n",
    "\n",
    "    return track_losses\n"
   ]
  },
  {
   "cell_type": "code",
   "execution_count": null,
   "metadata": {},
   "outputs": [],
   "source": [
    "''' \n",
    "    Define optimizer, loss function, and call model\n",
    "'''\n",
    "model = LSTMModel(input_size, hidden_size, num_layers, output_size)\n",
    "\n",
    "# Create optimizer \n",
    "optimizer = optim.Adam(model.parameters(), lr=learn_rate)\n",
    "\n",
    "# Create loss function\n",
    "criterion = nn.MSELoss()"
   ]
  },
  {
   "cell_type": "code",
   "execution_count": null,
   "metadata": {},
   "outputs": [],
   "source": [
    "track_losses_norm1 = train(model_norm1, train_loader_norm1, epochs, criterion)  "
   ]
  }
 ],
 "metadata": {
  "kernelspec": {
   "display_name": "Python 3",
   "language": "python",
   "name": "python3"
  },
  "language_info": {
   "codemirror_mode": {
    "name": "ipython",
    "version": 3
   },
   "file_extension": ".py",
   "mimetype": "text/x-python",
   "name": "python",
   "nbconvert_exporter": "python",
   "pygments_lexer": "ipython3",
   "version": "3.12.5"
  }
 },
 "nbformat": 4,
 "nbformat_minor": 2
}
